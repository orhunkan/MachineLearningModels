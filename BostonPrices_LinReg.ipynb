{
 "cells": [
  {
   "cell_type": "code",
   "execution_count": 14,
   "id": "78860c86",
   "metadata": {
    "scrolled": false
   },
   "outputs": [
    {
     "name": "stdout",
     "output_type": "stream",
     "text": [
      "Coefficients: \n",
      " [-0.6517476]\n",
      "Mean squared error: 50.54\n",
      "Coefficient of determination: 0.21\n"
     ]
    },
    {
     "data": {
      "image/png": "[encoded data removed]",
      "text/plain": [
       "<Figure size 432x288 with 1 Axes>"
      ]
     },
     "metadata": {
      "needs_background": "light"
     },
     "output_type": "display_data"
    }
   ],
   "source": [
    "import numpy as np\n",
    "import matplotlib.pyplot as plt\n",
    "from sklearn import linear_model,datasets\n",
    "from sklearn.metrics import mean_squared_error,r2_score\n",
    "from sklearn.model_selection import train_test_split\n",
    "bostonX,bostonY=datasets.load_boston(return_X_y=True)\n",
    "bostonX=bostonX[:,np.newaxis,2]#reshaping dimension\n",
    "xTrain,xTest,yTrain,yTest=train_test_split(bostonX,bostonY,test_size=20)\n",
    "model=linear_model.LinearRegression()\n",
    "yPred=model.fit(xTrain,yTrain).predict(xTest)\n",
    "print('Coefficients: \\n', model.coef_)\n",
    "print('Mean squared error: %.2f'\n",
    "      % mean_squared_error(yTest, yPred))#err calc\n",
    "print('Coefficient of determination: %.2f'\n",
    "      % r2_score(yTest, yPred))\n",
    "plt.scatter(xTest,yTest,color='red')\n",
    "plt.plot(xTest,yPred,color='blue', linewidth=3)\n",
    "plt.show()\n"
   ]
  },
  {
   "cell_type": "code",
   "execution_count": null,
   "id": "975a851a",
   "metadata": {},
   "outputs": [],
   "source": []
  }
 ],
 "metadata": {
  "kernelspec": {
   "display_name": "Python 3",
   "language": "python",
   "name": "python3"
  },
  "language_info": {
   "codemirror_mode": {
    "name": "ipython",
    "version": 3
   },
   "file_extension": ".py",
   "mimetype": "text/x-python",
   "name": "python",
   "nbconvert_exporter": "python",
   "pygments_lexer": "ipython3",
   "version": "3.8.8"
  }
 },
 "nbformat": 4,
 "nbformat_minor": 5
}
