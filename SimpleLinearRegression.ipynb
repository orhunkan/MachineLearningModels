{
 "cells": [
  {
   "cell_type": "code",
   "execution_count": 14,
   "id": "8a8748fe",
   "metadata": {},
   "outputs": [
    {
     "name": "stdout",
     "output_type": "stream",
     "text": [
      "predict values [1.1999999999999995, 1.9999999999999996, 3.5999999999999996, 2.8, 4.3999999999999995]\n",
      "x values [1, 2, 4, 3, 5]\n",
      "RMSE: 0.060000000000000074\n"
     ]
    }
   ],
   "source": [
    "x=[1,2,4,3,5]\n",
    "y=[1,3,3,2,5]\n",
    "z=[None]*len(x)\n",
    "num,num2,denum=0,0,0\n",
    "def mean(a):\n",
    "    return sum(a)/len(a)\n",
    "meanx=mean(x)\n",
    "meany=mean(y)\n",
    "def rmse(c):\n",
    "    return (c/len(x))**1/2\n",
    "for i in range (len(x)):\n",
    "    num+=(x[i]-meanx)*(y[i]-meany)\n",
    "    denum+=(x[i]-meanx)**2\n",
    "    b1=num/denum\n",
    "    b0=meany-b1*meanx\n",
    "for i in range (len(x)):\n",
    "    z[i]=b0+b1*x[i]\n",
    "    num2+=(z[i]-x[i])**2\n",
    "print(\"predict values\",z)\n",
    "print(\"x values\",x)\n",
    "print(\"RMSE:\",rmse(num2))    "
   ]
  },
  {
   "cell_type": "code",
   "execution_count": null,
   "id": "264baefa",
   "metadata": {},
   "outputs": [],
   "source": [
    "Simple Linear Regression model without using any modules"
   ]
  }
 ],
 "metadata": {
  "kernelspec": {
   "display_name": "Python 3",
   "language": "python",
   "name": "python3"
  },
  "language_info": {
   "codemirror_mode": {
    "name": "ipython",
    "version": 3
   },
   "file_extension": ".py",
   "mimetype": "text/x-python",
   "name": "python",
   "nbconvert_exporter": "python",
   "pygments_lexer": "ipython3",
   "version": "3.8.8"
  }
 },
 "nbformat": 4,
 "nbformat_minor": 5
}
