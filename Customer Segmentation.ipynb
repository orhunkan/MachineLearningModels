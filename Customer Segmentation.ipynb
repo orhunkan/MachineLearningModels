{
 "cells": [
  {
   "cell_type": "code",
   "execution_count": 1,
   "id": "79d30839",
   "metadata": {
    "scrolled": false
   },
   "outputs": [
    {
     "data": {
      "text/plain": [
       "ID      Gender  Ever_Married  Age  Graduated  Profession  Work_Experience  Spending_Score  Family_Size  Var_1\n",
       "458989  Female  Yes           36   Yes        Engineer    0.0              Low             1.0          Cat_6    1\n",
       "464990  Male    Yes           73   No         Executive   0.0              High            2.0          Cat_6    1\n",
       "465040  Male    Yes           69   No         Lawyer      1.0              Average         2.0          Cat_6    1\n",
       "465039  Female  Yes           87   No         Lawyer      0.0              High            2.0          Cat_6    1\n",
       "465038  Male    Yes           49   No         Executive   0.0              High            4.0          Cat_6    1\n",
       "                                                                                                                ..\n",
       "462007  Female  Yes           42   Yes        Artist      1.0              Average         2.0          Cat_6    1\n",
       "461999  Male    No            27   Yes        Doctor      0.0              Low             5.0          Cat_6    1\n",
       "461996  Female  No            35   No         Artist      7.0              Low             4.0          Cat_6    1\n",
       "461994  Male    Yes           20   No         Doctor      14.0             Low             2.0          Cat_6    1\n",
       "467968  Female  No            43   Yes        Healthcare  9.0              Low             3.0          Cat_7    1\n",
       "Length: 2154, dtype: int64"
      ]
     },
     "execution_count": 1,
     "metadata": {},
     "output_type": "execute_result"
    },
    {
     "data": {
      "image/png": "[encoded data removed]",
      "text/plain": [
       "<Figure size 432x288 with 1 Axes>"
      ]
     },
     "metadata": {},
     "output_type": "display_data"
    }
   ],
   "source": [
    "import pandas as pd\n",
    "import numpy as np\n",
    "import matplotlib.pyplot as plt\n",
    "import seaborn as sn\n",
    "from sklearn.preprocessing import OneHotEncoder,LabelEncoder,OrdinalEncoder,normalize\n",
    "from sklearn.impute import SimpleImputer,KNNImputer\n",
    "from sklearn.cluster import KMeans\n",
    "from sklearn import metrics\n",
    "from scipy.spatial.distance import cdist\n",
    "from sklearn.preprocessing import MinMaxScaler,StandardScaler\n",
    "\n",
    "testFilepath=r\"C:\\Users\\s-mkandemir\\Anaconda3\\seg_test.csv\"\n",
    "trainFilepath=r\"C:\\Users\\s-mkandemir\\Anaconda3\\seg_train.csv\"\n",
    "testData=pd.read_csv(testFilepath)\n",
    "trainData=pd.read_csv(trainFilepath)\n",
    "trainData.drop(['ID'], axis=1)\n",
    "trainData['Segmentation'].value_counts()\n",
    "trainData['Segmentation'].value_counts().plot.pie()\n",
    "testData.value_counts()\n",
    "\n"
   ]
  },
  {
   "cell_type": "code",
   "execution_count": 2,
   "id": "d7b8c059",
   "metadata": {},
   "outputs": [
    {
     "data": {
      "text/html": [
       "<div>\n",
       "<style scoped>\n",
       "    .dataframe tbody tr th:only-of-type {\n",
       "        vertical-align: middle;\n",
       "    }\n",
       "\n",
       "    .dataframe tbody tr th {\n",
       "        vertical-align: top;\n",
       "    }\n",
       "\n",
       "    .dataframe thead th {\n",
       "        text-align: right;\n",
       "    }\n",
       "</style>\n",
       "<table border=\"1\" class=\"dataframe\">\n",
       "  <thead>\n",
       "    <tr style=\"text-align: right;\">\n",
       "      <th></th>\n",
       "      <th>ID</th>\n",
       "      <th>Gender</th>\n",
       "      <th>Ever_Married</th>\n",
       "      <th>Age</th>\n",
       "      <th>Graduated</th>\n",
       "      <th>Profession</th>\n",
       "      <th>Work_Experience</th>\n",
       "      <th>Spending_Score</th>\n",
       "      <th>Family_Size</th>\n",
       "      <th>Var_1</th>\n",
       "      <th>Segmentation</th>\n",
       "    </tr>\n",
       "  </thead>\n",
       "  <tbody>\n",
       "    <tr>\n",
       "      <th>0</th>\n",
       "      <td>462809</td>\n",
       "      <td>Male</td>\n",
       "      <td>No</td>\n",
       "      <td>22</td>\n",
       "      <td>No</td>\n",
       "      <td>Healthcare</td>\n",
       "      <td>1.0</td>\n",
       "      <td>Low</td>\n",
       "      <td>4.0</td>\n",
       "      <td>Cat_4</td>\n",
       "      <td>D</td>\n",
       "    </tr>\n",
       "    <tr>\n",
       "      <th>1</th>\n",
       "      <td>462643</td>\n",
       "      <td>Female</td>\n",
       "      <td>Yes</td>\n",
       "      <td>38</td>\n",
       "      <td>Yes</td>\n",
       "      <td>Engineer</td>\n",
       "      <td>NaN</td>\n",
       "      <td>Average</td>\n",
       "      <td>3.0</td>\n",
       "      <td>Cat_4</td>\n",
       "      <td>A</td>\n",
       "    </tr>\n",
       "    <tr>\n",
       "      <th>2</th>\n",
       "      <td>466315</td>\n",
       "      <td>Female</td>\n",
       "      <td>Yes</td>\n",
       "      <td>67</td>\n",
       "      <td>Yes</td>\n",
       "      <td>Engineer</td>\n",
       "      <td>1.0</td>\n",
       "      <td>Low</td>\n",
       "      <td>1.0</td>\n",
       "      <td>Cat_6</td>\n",
       "      <td>B</td>\n",
       "    </tr>\n",
       "    <tr>\n",
       "      <th>3</th>\n",
       "      <td>461735</td>\n",
       "      <td>Male</td>\n",
       "      <td>Yes</td>\n",
       "      <td>67</td>\n",
       "      <td>Yes</td>\n",
       "      <td>Lawyer</td>\n",
       "      <td>0.0</td>\n",
       "      <td>High</td>\n",
       "      <td>2.0</td>\n",
       "      <td>Cat_6</td>\n",
       "      <td>B</td>\n",
       "    </tr>\n",
       "    <tr>\n",
       "      <th>4</th>\n",
       "      <td>462669</td>\n",
       "      <td>Female</td>\n",
       "      <td>Yes</td>\n",
       "      <td>40</td>\n",
       "      <td>Yes</td>\n",
       "      <td>Entertainment</td>\n",
       "      <td>NaN</td>\n",
       "      <td>High</td>\n",
       "      <td>6.0</td>\n",
       "      <td>Cat_6</td>\n",
       "      <td>A</td>\n",
       "    </tr>\n",
       "  </tbody>\n",
       "</table>\n",
       "</div>"
      ],
      "text/plain": [
       "       ID  Gender Ever_Married  Age Graduated     Profession  Work_Experience  \\\n",
       "0  462809    Male           No   22        No     Healthcare              1.0   \n",
       "1  462643  Female          Yes   38       Yes       Engineer              NaN   \n",
       "2  466315  Female          Yes   67       Yes       Engineer              1.0   \n",
       "3  461735    Male          Yes   67       Yes         Lawyer              0.0   \n",
       "4  462669  Female          Yes   40       Yes  Entertainment              NaN   \n",
       "\n",
       "  Spending_Score  Family_Size  Var_1 Segmentation  \n",
       "0            Low          4.0  Cat_4            D  \n",
       "1        Average          3.0  Cat_4            A  \n",
       "2            Low          1.0  Cat_6            B  \n",
       "3           High          2.0  Cat_6            B  \n",
       "4           High          6.0  Cat_6            A  "
      ]
     },
     "execution_count": 2,
     "metadata": {},
     "output_type": "execute_result"
    }
   ],
   "source": [
    "\n",
    "def encode_and_bind(original_dataframe, feature_to_encode):\n",
    "    dummies = pd.get_dummies(original_dataframe[[feature_to_encode]])\n",
    "    res = pd.concat([original_dataframe, dummies], axis=1)\n",
    "    return(res)\n",
    "trainData['Profession'].fillna(trainData['Profession'].mode()[0], inplace=True)\n",
    "\n",
    "\n",
    "trainData.head()\n"
   ]
  },
  {
   "cell_type": "code",
   "execution_count": 3,
   "id": "6f93ae8b",
   "metadata": {
    "scrolled": true
   },
   "outputs": [
    {
     "data": {
      "text/plain": [
       "ID                   int64\n",
       "Gender              object\n",
       "Ever_Married        object\n",
       "Age                  int64\n",
       "Graduated           object\n",
       "Profession          object\n",
       "Work_Experience    float64\n",
       "Spending_Score      object\n",
       "Family_Size        float64\n",
       "Var_1               object\n",
       "Segmentation        object\n",
       "dtype: object"
      ]
     },
     "execution_count": 3,
     "metadata": {},
     "output_type": "execute_result"
    }
   ],
   "source": [
    "trainData.dtypes"
   ]
  },
  {
   "cell_type": "code",
   "execution_count": 4,
   "id": "4e359f1a",
   "metadata": {},
   "outputs": [
    {
     "data": {
      "text/plain": [
       "0"
      ]
     },
     "execution_count": 4,
     "metadata": {},
     "output_type": "execute_result"
    }
   ],
   "source": [
    "trainData['Profession'].isnull().sum()"
   ]
  },
  {
   "cell_type": "code",
   "execution_count": 5,
   "id": "a91ca982",
   "metadata": {
    "scrolled": false
   },
   "outputs": [
    {
     "data": {
      "image/png": "[encoded data removed]",
      "text/plain": [
       "<Figure size 576x288 with 1 Axes>"
      ]
     },
     "metadata": {
      "needs_background": "light"
     },
     "output_type": "display_data"
    },
    {
     "data": {
      "image/png": "[encoded data removed]",
      "text/plain": [
       "<Figure size 720x288 with 1 Axes>"
      ]
     },
     "metadata": {
      "needs_background": "light"
     },
     "output_type": "display_data"
    },
    {
     "data": {
      "image/png": "[encoded data removed]",
      "text/plain": [
       "<Figure size 720x288 with 1 Axes>"
      ]
     },
     "metadata": {
      "needs_background": "light"
     },
     "output_type": "display_data"
    },
    {
     "data": {
      "image/png": "[encoded data removed]",
      "text/plain": [
       "<Figure size 720x288 with 1 Axes>"
      ]
     },
     "metadata": {
      "needs_background": "light"
     },
     "output_type": "display_data"
    },
    {
     "data": {
      "image/png": "[encoded data removed]",
      "text/plain": [
       "<Figure size 720x288 with 1 Axes>"
      ]
     },
     "metadata": {
      "needs_background": "light"
     },
     "output_type": "display_data"
    },
    {
     "data": {
      "image/png": "[encoded data removed]",
      "text/plain": [
       "<Figure size 720x288 with 1 Axes>"
      ]
     },
     "metadata": {
      "needs_background": "light"
     },
     "output_type": "display_data"
    }
   ],
   "source": [
    "plt.figure(figsize=(8,4))\n",
    "sn.countplot(x='Spending_Score',hue='Segmentation', data=trainData, palette='plasma')\n",
    "plt.title(\"Segmentation wrt Spending_Score\")\n",
    "plt.show()\n",
    "plt.figure(figsize=(10,4))\n",
    "sn.countplot(x='Profession',hue='Segmentation', data=trainData, palette='plasma')\n",
    "plt.title(\"Segmentation wrt Profession\")\n",
    "plt.show()\n",
    "plt.figure(figsize=(10,4))\n",
    "sn.countplot(x='Gender',hue='Segmentation', data=trainData, palette='plasma')\n",
    "plt.title(\"Segmentation wrt Gender\")\n",
    "plt.show()\n",
    "plt.figure(figsize=(10,4))\n",
    "sn.countplot(x='Var_1',hue='Segmentation', data=trainData, palette='plasma')\n",
    "plt.title(\"Segmentation wrt Var_1\")\n",
    "plt.show()\n",
    "plt.figure(figsize=(10,4))\n",
    "sn.countplot(x='Graduated',hue='Segmentation', data=trainData, palette='plasma')\n",
    "plt.title(\"Segmentation wrt Education\")\n",
    "plt.show()\n",
    "plt.figure(figsize=(10,4))\n",
    "sn.countplot(x='Ever_Married',hue='Segmentation', data=trainData, palette='plasma')\n",
    "plt.title(\"Segmentation wrt marriage\")\n",
    "plt.show()"
   ]
  },
  {
   "cell_type": "code",
   "execution_count": 6,
   "id": "2ce013df",
   "metadata": {
    "scrolled": true
   },
   "outputs": [],
   "source": [
    "trainData=trainData.drop(['Segmentation'],axis=1)\n",
    "trainData=trainData.drop(['Var_1'],axis=1)"
   ]
  },
  {
   "cell_type": "code",
   "execution_count": 7,
   "id": "4bd02d42",
   "metadata": {
    "scrolled": false
   },
   "outputs": [
    {
     "data": {
      "text/html": [
       "<div>\n",
       "<style scoped>\n",
       "    .dataframe tbody tr th:only-of-type {\n",
       "        vertical-align: middle;\n",
       "    }\n",
       "\n",
       "    .dataframe tbody tr th {\n",
       "        vertical-align: top;\n",
       "    }\n",
       "\n",
       "    .dataframe thead th {\n",
       "        text-align: right;\n",
       "    }\n",
       "</style>\n",
       "<table border=\"1\" class=\"dataframe\">\n",
       "  <thead>\n",
       "    <tr style=\"text-align: right;\">\n",
       "      <th></th>\n",
       "      <th>ID</th>\n",
       "      <th>Gender</th>\n",
       "      <th>Ever_Married</th>\n",
       "      <th>Age</th>\n",
       "      <th>Graduated</th>\n",
       "      <th>Profession</th>\n",
       "      <th>Work_Experience</th>\n",
       "      <th>Spending_Score</th>\n",
       "      <th>Family_Size</th>\n",
       "    </tr>\n",
       "  </thead>\n",
       "  <tbody>\n",
       "    <tr>\n",
       "      <th>0</th>\n",
       "      <td>462809</td>\n",
       "      <td>Male</td>\n",
       "      <td>No</td>\n",
       "      <td>22</td>\n",
       "      <td>No</td>\n",
       "      <td>Healthcare</td>\n",
       "      <td>1.0</td>\n",
       "      <td>Low</td>\n",
       "      <td>4.0</td>\n",
       "    </tr>\n",
       "    <tr>\n",
       "      <th>1</th>\n",
       "      <td>462643</td>\n",
       "      <td>Female</td>\n",
       "      <td>Yes</td>\n",
       "      <td>38</td>\n",
       "      <td>Yes</td>\n",
       "      <td>Engineer</td>\n",
       "      <td>NaN</td>\n",
       "      <td>Average</td>\n",
       "      <td>3.0</td>\n",
       "    </tr>\n",
       "    <tr>\n",
       "      <th>2</th>\n",
       "      <td>466315</td>\n",
       "      <td>Female</td>\n",
       "      <td>Yes</td>\n",
       "      <td>67</td>\n",
       "      <td>Yes</td>\n",
       "      <td>Engineer</td>\n",
       "      <td>1.0</td>\n",
       "      <td>Low</td>\n",
       "      <td>1.0</td>\n",
       "    </tr>\n",
       "    <tr>\n",
       "      <th>3</th>\n",
       "      <td>461735</td>\n",
       "      <td>Male</td>\n",
       "      <td>Yes</td>\n",
       "      <td>67</td>\n",
       "      <td>Yes</td>\n",
       "      <td>Lawyer</td>\n",
       "      <td>0.0</td>\n",
       "      <td>High</td>\n",
       "      <td>2.0</td>\n",
       "    </tr>\n",
       "    <tr>\n",
       "      <th>4</th>\n",
       "      <td>462669</td>\n",
       "      <td>Female</td>\n",
       "      <td>Yes</td>\n",
       "      <td>40</td>\n",
       "      <td>Yes</td>\n",
       "      <td>Entertainment</td>\n",
       "      <td>NaN</td>\n",
       "      <td>High</td>\n",
       "      <td>6.0</td>\n",
       "    </tr>\n",
       "  </tbody>\n",
       "</table>\n",
       "</div>"
      ],
      "text/plain": [
       "       ID  Gender Ever_Married  Age Graduated     Profession  Work_Experience  \\\n",
       "0  462809    Male           No   22        No     Healthcare              1.0   \n",
       "1  462643  Female          Yes   38       Yes       Engineer              NaN   \n",
       "2  466315  Female          Yes   67       Yes       Engineer              1.0   \n",
       "3  461735    Male          Yes   67       Yes         Lawyer              0.0   \n",
       "4  462669  Female          Yes   40       Yes  Entertainment              NaN   \n",
       "\n",
       "  Spending_Score  Family_Size  \n",
       "0            Low          4.0  \n",
       "1        Average          3.0  \n",
       "2            Low          1.0  \n",
       "3           High          2.0  \n",
       "4           High          6.0  "
      ]
     },
     "execution_count": 7,
     "metadata": {},
     "output_type": "execute_result"
    }
   ],
   "source": [
    "trainData.head()"
   ]
  },
  {
   "cell_type": "code",
   "execution_count": 8,
   "id": "c7c3ca45",
   "metadata": {},
   "outputs": [],
   "source": [
    "trainData['Family_Size'].fillna(int(trainData['Family_Size'].mean()),inplace=True)\n",
    "trainData['Work_Experience'].fillna(int(trainData['Work_Experience'].mean()),inplace=True)\n"
   ]
  },
  {
   "cell_type": "code",
   "execution_count": 9,
   "id": "2b7b45d0",
   "metadata": {
    "scrolled": false
   },
   "outputs": [
    {
     "data": {
      "text/html": [
       "<div>\n",
       "<style scoped>\n",
       "    .dataframe tbody tr th:only-of-type {\n",
       "        vertical-align: middle;\n",
       "    }\n",
       "\n",
       "    .dataframe tbody tr th {\n",
       "        vertical-align: top;\n",
       "    }\n",
       "\n",
       "    .dataframe thead th {\n",
       "        text-align: right;\n",
       "    }\n",
       "</style>\n",
       "<table border=\"1\" class=\"dataframe\">\n",
       "  <thead>\n",
       "    <tr style=\"text-align: right;\">\n",
       "      <th></th>\n",
       "      <th>Age</th>\n",
       "      <th>Work_Experience</th>\n",
       "      <th>Family_Size</th>\n",
       "      <th>Spending_Score_Average</th>\n",
       "      <th>Spending_Score_High</th>\n",
       "      <th>Spending_Score_Low</th>\n",
       "      <th>Profession_Artist</th>\n",
       "      <th>Profession_Doctor</th>\n",
       "      <th>Profession_Engineer</th>\n",
       "      <th>Profession_Entertainment</th>\n",
       "      <th>...</th>\n",
       "      <th>Profession_Healthcare</th>\n",
       "      <th>Profession_Homemaker</th>\n",
       "      <th>Profession_Lawyer</th>\n",
       "      <th>Profession_Marketing</th>\n",
       "      <th>Gender_Female</th>\n",
       "      <th>Gender_Male</th>\n",
       "      <th>Graduated_No</th>\n",
       "      <th>Graduated_Yes</th>\n",
       "      <th>Ever_Married_No</th>\n",
       "      <th>Ever_Married_Yes</th>\n",
       "    </tr>\n",
       "  </thead>\n",
       "  <tbody>\n",
       "    <tr>\n",
       "      <th>0</th>\n",
       "      <td>22</td>\n",
       "      <td>1.0</td>\n",
       "      <td>4.0</td>\n",
       "      <td>0</td>\n",
       "      <td>0</td>\n",
       "      <td>1</td>\n",
       "      <td>0</td>\n",
       "      <td>0</td>\n",
       "      <td>0</td>\n",
       "      <td>0</td>\n",
       "      <td>...</td>\n",
       "      <td>1</td>\n",
       "      <td>0</td>\n",
       "      <td>0</td>\n",
       "      <td>0</td>\n",
       "      <td>0</td>\n",
       "      <td>1</td>\n",
       "      <td>1</td>\n",
       "      <td>0</td>\n",
       "      <td>1</td>\n",
       "      <td>0</td>\n",
       "    </tr>\n",
       "    <tr>\n",
       "      <th>1</th>\n",
       "      <td>38</td>\n",
       "      <td>2.0</td>\n",
       "      <td>3.0</td>\n",
       "      <td>1</td>\n",
       "      <td>0</td>\n",
       "      <td>0</td>\n",
       "      <td>0</td>\n",
       "      <td>0</td>\n",
       "      <td>1</td>\n",
       "      <td>0</td>\n",
       "      <td>...</td>\n",
       "      <td>0</td>\n",
       "      <td>0</td>\n",
       "      <td>0</td>\n",
       "      <td>0</td>\n",
       "      <td>1</td>\n",
       "      <td>0</td>\n",
       "      <td>0</td>\n",
       "      <td>1</td>\n",
       "      <td>0</td>\n",
       "      <td>1</td>\n",
       "    </tr>\n",
       "    <tr>\n",
       "      <th>2</th>\n",
       "      <td>67</td>\n",
       "      <td>1.0</td>\n",
       "      <td>1.0</td>\n",
       "      <td>0</td>\n",
       "      <td>0</td>\n",
       "      <td>1</td>\n",
       "      <td>0</td>\n",
       "      <td>0</td>\n",
       "      <td>1</td>\n",
       "      <td>0</td>\n",
       "      <td>...</td>\n",
       "      <td>0</td>\n",
       "      <td>0</td>\n",
       "      <td>0</td>\n",
       "      <td>0</td>\n",
       "      <td>1</td>\n",
       "      <td>0</td>\n",
       "      <td>0</td>\n",
       "      <td>1</td>\n",
       "      <td>0</td>\n",
       "      <td>1</td>\n",
       "    </tr>\n",
       "    <tr>\n",
       "      <th>3</th>\n",
       "      <td>67</td>\n",
       "      <td>0.0</td>\n",
       "      <td>2.0</td>\n",
       "      <td>0</td>\n",
       "      <td>1</td>\n",
       "      <td>0</td>\n",
       "      <td>0</td>\n",
       "      <td>0</td>\n",
       "      <td>0</td>\n",
       "      <td>0</td>\n",
       "      <td>...</td>\n",
       "      <td>0</td>\n",
       "      <td>0</td>\n",
       "      <td>1</td>\n",
       "      <td>0</td>\n",
       "      <td>0</td>\n",
       "      <td>1</td>\n",
       "      <td>0</td>\n",
       "      <td>1</td>\n",
       "      <td>0</td>\n",
       "      <td>1</td>\n",
       "    </tr>\n",
       "    <tr>\n",
       "      <th>4</th>\n",
       "      <td>40</td>\n",
       "      <td>2.0</td>\n",
       "      <td>6.0</td>\n",
       "      <td>0</td>\n",
       "      <td>1</td>\n",
       "      <td>0</td>\n",
       "      <td>0</td>\n",
       "      <td>0</td>\n",
       "      <td>0</td>\n",
       "      <td>1</td>\n",
       "      <td>...</td>\n",
       "      <td>0</td>\n",
       "      <td>0</td>\n",
       "      <td>0</td>\n",
       "      <td>0</td>\n",
       "      <td>1</td>\n",
       "      <td>0</td>\n",
       "      <td>0</td>\n",
       "      <td>1</td>\n",
       "      <td>0</td>\n",
       "      <td>1</td>\n",
       "    </tr>\n",
       "  </tbody>\n",
       "</table>\n",
       "<p>5 rows × 21 columns</p>\n",
       "</div>"
      ],
      "text/plain": [
       "   Age  Work_Experience  Family_Size  Spending_Score_Average  \\\n",
       "0   22              1.0          4.0                       0   \n",
       "1   38              2.0          3.0                       1   \n",
       "2   67              1.0          1.0                       0   \n",
       "3   67              0.0          2.0                       0   \n",
       "4   40              2.0          6.0                       0   \n",
       "\n",
       "   Spending_Score_High  Spending_Score_Low  Profession_Artist  \\\n",
       "0                    0                   1                  0   \n",
       "1                    0                   0                  0   \n",
       "2                    0                   1                  0   \n",
       "3                    1                   0                  0   \n",
       "4                    1                   0                  0   \n",
       "\n",
       "   Profession_Doctor  Profession_Engineer  Profession_Entertainment  ...  \\\n",
       "0                  0                    0                         0  ...   \n",
       "1                  0                    1                         0  ...   \n",
       "2                  0                    1                         0  ...   \n",
       "3                  0                    0                         0  ...   \n",
       "4                  0                    0                         1  ...   \n",
       "\n",
       "   Profession_Healthcare  Profession_Homemaker  Profession_Lawyer  \\\n",
       "0                      1                     0                  0   \n",
       "1                      0                     0                  0   \n",
       "2                      0                     0                  0   \n",
       "3                      0                     0                  1   \n",
       "4                      0                     0                  0   \n",
       "\n",
       "   Profession_Marketing  Gender_Female  Gender_Male  Graduated_No  \\\n",
       "0                     0              0            1             1   \n",
       "1                     0              1            0             0   \n",
       "2                     0              1            0             0   \n",
       "3                     0              0            1             0   \n",
       "4                     0              1            0             0   \n",
       "\n",
       "   Graduated_Yes  Ever_Married_No  Ever_Married_Yes  \n",
       "0              0                1                 0  \n",
       "1              1                0                 1  \n",
       "2              1                0                 1  \n",
       "3              1                0                 1  \n",
       "4              1                0                 1  \n",
       "\n",
       "[5 rows x 21 columns]"
      ]
     },
     "execution_count": 9,
     "metadata": {},
     "output_type": "execute_result"
    }
   ],
   "source": [
    "trainData=encode_and_bind(trainData,'Spending_Score')\n",
    "trainData=encode_and_bind(trainData,'Profession')\n",
    "trainData=encode_and_bind(trainData,'Gender')\n",
    "trainData=encode_and_bind(trainData,'Graduated')\n",
    "trainData=encode_and_bind(trainData,'Ever_Married')\n",
    "trainData=trainData.drop(['Gender','Ever_Married','Profession','Graduated','Spending_Score','ID'],axis=1)\n",
    "trainData.head()\n"
   ]
  },
  {
   "cell_type": "code",
   "execution_count": 10,
   "id": "369446d4",
   "metadata": {
    "scrolled": true
   },
   "outputs": [],
   "source": [
    "distortions = []\n",
    "inertias = []\n",
    "mapping1 = {}\n",
    "mapping2 = {}\n",
    "K = range(1, 10)\n",
    "\n",
    "for k in K:\n",
    "    # Building and fitting the model\n",
    "    kmeanModel = KMeans(n_clusters=k).fit(trainData)\n",
    "    kmeanModel.fit(trainData)\n",
    " \n",
    "    distortions.append(sum(np.min(cdist(trainData, kmeanModel.cluster_centers_,\n",
    "                                        'euclidean'), axis=1)) / trainData.shape[0])\n",
    "    inertias.append(kmeanModel.inertia_)\n",
    " \n",
    "    mapping1[k] = sum(np.min(cdist(trainData, kmeanModel.cluster_centers_,\n",
    "                                   'euclidean'), axis=1)) / trainData.shape[0]\n",
    "    mapping2[k] = kmeanModel.inertia_"
   ]
  },
  {
   "cell_type": "code",
   "execution_count": 11,
   "id": "edfd5c67",
   "metadata": {},
   "outputs": [
    {
     "data": {
      "image/png": "[encoded data removed]",
      "text/plain": [
       "<Figure size 432x288 with 1 Axes>"
      ]
     },
     "metadata": {
      "needs_background": "light"
     },
     "output_type": "display_data"
    }
   ],
   "source": [
    "\n",
    "plt.plot(K, distortions, 'bx-')\n",
    "plt.xlabel('Values of K')\n",
    "plt.ylabel('Distortion')\n",
    "plt.title('The Elbow Method using Distortion')\n",
    "plt.show()"
   ]
  },
  {
   "cell_type": "code",
   "execution_count": 12,
   "id": "b005c8af",
   "metadata": {
    "scrolled": true
   },
   "outputs": [
    {
     "data": {
      "image/png": "[encoded data removed]",
      "text/plain": [
       "<Figure size 432x288 with 1 Axes>"
      ]
     },
     "metadata": {
      "needs_background": "light"
     },
     "output_type": "display_data"
    }
   ],
   "source": [
    "plt.plot(K, inertias, 'bx-')\n",
    "plt.xlabel('Values of K')\n",
    "plt.ylabel('Inertia')\n",
    "plt.title('The Elbow Method using Inertia')\n",
    "plt.show()"
   ]
  },
  {
   "cell_type": "code",
   "execution_count": 13,
   "id": "50c508e1",
   "metadata": {
    "scrolled": true
   },
   "outputs": [
    {
     "name": "stderr",
     "output_type": "stream",
     "text": [
      "C:\\Users\\s-mkandemir\\Anaconda3\\lib\\site-packages\\seaborn\\_decorators.py:36: FutureWarning: Pass the following variables as keyword args: x, y. From version 0.12, the only valid positional argument will be `data`, and passing other arguments without an explicit keyword will result in an error or misinterpretation.\n",
      "  warnings.warn(\n"
     ]
    },
    {
     "data": {
      "text/plain": [
       "Text(0.5, 1.0, 'Inertia of k-Means versus number of clusters')"
      ]
     },
     "execution_count": 13,
     "metadata": {},
     "output_type": "execute_result"
    },
    {
     "data": {
      "image/png": "[encoded data removed]",
      "text/plain": [
       "<Figure size 432x288 with 1 Axes>"
      ]
     },
     "metadata": {
      "needs_background": "light"
     },
     "output_type": "display_data"
    }
   ],
   "source": [
    "import seaborn as sns\n",
    "import matplotlib.pyplot as plt\n",
    "from sklearn.cluster import KMeans,DBSCAN\n",
    "scores = [KMeans(n_clusters=i+2).fit(trainData).inertia_ \n",
    "          for i in range(10)]\n",
    "sns.lineplot(np.arange(2, 12), scores)\n",
    "plt.xlabel('Number of clusters')\n",
    "plt.ylabel(\"Inertia\")\n",
    "plt.title(\"Inertia of k-Means versus number of clusters\")"
   ]
  },
  {
   "cell_type": "code",
   "execution_count": 14,
   "id": "91ef19b2",
   "metadata": {
    "scrolled": true
   },
   "outputs": [
    {
     "name": "stdout",
     "output_type": "stream",
     "text": [
      "kmeans: 0.040115051804262836\n"
     ]
    },
    {
     "data": {
      "image/png": "[encoded data removed]",
      "text/plain": [
       "<Figure size 432x288 with 1 Axes>"
      ]
     },
     "metadata": {
      "needs_background": "light"
     },
     "output_type": "display_data"
    }
   ],
   "source": [
    "from sklearn.metrics import silhouette_score\n",
    "from sklearn.decomposition import PCA\n",
    "#sc = StandardScaler()\n",
    "#dfsc=sc.fit_transform(trainData)\n",
    " #Prepare models\n",
    "pca=PCA(2)\n",
    "df=pca.fit_transform(trainData)\n",
    "kmeans = KMeans(n_clusters= 4).fit(trainData)\n",
    "normalized_vectors = normalize(trainData)\n",
    "normalized_kmeans = KMeans(n_clusters=4).fit(normalized_vectors)\n",
    "label=kmeans.fit_predict(df)\n",
    "\n",
    "# Print results\n",
    "print('kmeans: {}'.format(silhouette_score(trainData,normalized_kmeans.labels_, \n",
    "                                           metric='euclidean')))\n",
    "u_labels = np.unique(label)\n",
    " \n",
    "#plotting the results:\n",
    "for i in u_labels:\n",
    "    plt.scatter(df[label == i , 0] , df[label == i , 1] , label = i)\n",
    "plt.legend()\n",
    "plt.show()"
   ]
  },
  {
   "cell_type": "code",
   "execution_count": 18,
   "id": "ab5587d0",
   "metadata": {
    "scrolled": true
   },
   "outputs": [
    {
     "name": "stdout",
     "output_type": "stream",
     "text": [
      "      Age  Work_Experience  Family_Size  Spending_Score_Average  \\\n",
      "1      38              2.0          3.0                       1   \n",
      "4      40              2.0          6.0                       0   \n",
      "7      33              1.0          3.0                       0   \n",
      "15     41              1.0          2.0                       0   \n",
      "22     33             13.0          2.0                       0   \n",
      "...   ...              ...          ...                     ...   \n",
      "8059   39              3.0          2.0                       0   \n",
      "8062   41              0.0          5.0                       0   \n",
      "8064   35              3.0          4.0                       0   \n",
      "8065   33              1.0          1.0                       0   \n",
      "8067   37              0.0          3.0                       1   \n",
      "\n",
      "      Spending_Score_High  Spending_Score_Low  Profession_Artist  \\\n",
      "1                       0                   0                  0   \n",
      "4                       1                   0                  0   \n",
      "7                       0                   1                  0   \n",
      "15                      0                   1                  0   \n",
      "22                      0                   1                  1   \n",
      "...                   ...                 ...                ...   \n",
      "8059                    0                   1                  0   \n",
      "8062                    1                   0                  1   \n",
      "8064                    0                   1                  0   \n",
      "8065                    0                   1                  0   \n",
      "8067                    0                   0                  0   \n",
      "\n",
      "      Profession_Doctor  Profession_Engineer  Profession_Entertainment  ...  \\\n",
      "1                     0                    1                         0  ...   \n",
      "4                     0                    0                         1  ...   \n",
      "7                     0                    0                         0  ...   \n",
      "15                    0                    0                         0  ...   \n",
      "22                    0                    0                         0  ...   \n",
      "...                 ...                  ...                       ...  ...   \n",
      "8059                  0                    0                         0  ...   \n",
      "8062                  0                    0                         0  ...   \n",
      "8064                  0                    0                         0  ...   \n",
      "8065                  0                    0                         0  ...   \n",
      "8067                  0                    0                         0  ...   \n",
      "\n",
      "      Profession_Healthcare  Profession_Homemaker  Profession_Lawyer  \\\n",
      "1                         0                     0                  0   \n",
      "4                         0                     0                  0   \n",
      "7                         1                     0                  0   \n",
      "15                        1                     0                  0   \n",
      "22                        0                     0                  0   \n",
      "...                     ...                   ...                ...   \n",
      "8059                      1                     0                  0   \n",
      "8062                      0                     0                  0   \n",
      "8064                      0                     0                  0   \n",
      "8065                      1                     0                  0   \n",
      "8067                      0                     0                  0   \n",
      "\n",
      "      Profession_Marketing  Gender_Female  Gender_Male  Graduated_No  \\\n",
      "1                        0              1            0             0   \n",
      "4                        0              1            0             0   \n",
      "7                        0              1            0             0   \n",
      "15                       0              1            0             1   \n",
      "22                       0              0            1             0   \n",
      "...                    ...            ...          ...           ...   \n",
      "8059                     0              0            1             0   \n",
      "8062                     0              0            1             0   \n",
      "8064                     0              0            1             1   \n",
      "8065                     0              1            0             0   \n",
      "8067                     0              0            1             0   \n",
      "\n",
      "      Graduated_Yes  Ever_Married_No  Ever_Married_Yes  \n",
      "1                 1                0                 1  \n",
      "4                 1                0                 1  \n",
      "7                 1                1                 0  \n",
      "15                0                1                 0  \n",
      "22                1                0                 1  \n",
      "...             ...              ...               ...  \n",
      "8059              1                1                 0  \n",
      "8062              1                0                 1  \n",
      "8064              0                1                 0  \n",
      "8065              1                1                 0  \n",
      "8067              1                0                 1  \n",
      "\n",
      "[2469 rows x 21 columns]\n"
     ]
    }
   ],
   "source": [
    "\n",
    "from sklearn.metrics import accuracy_score,precision_score,recall_score,f1_score  # for classification\n",
    "from sklearn.metrics import classification_report\n",
    "from sklearn.metrics import confusion_matrix\n",
    "from sklearn.model_selection import cross_val_score\n",
    "from sklearn.ensemble import RandomForestClassifier,GradientBoostingClassifier,AdaBoostClassifier\n",
    "from sklearn.model_selection import train_test_split,cross_validate\n",
    "\n",
    "segment0=trainData.iloc[label==0]\n",
    "segment1=trainData.iloc[label==1]\n",
    "segment2=trainData.iloc[label==2]\n",
    "segment3=trainData.iloc[label==3]\n",
    "segments=segment0+segment1+segment2+segment3\n",
    "print(segment0)"
   ]
  },
  {
   "cell_type": "code",
   "execution_count": 19,
   "id": "c5ca6138",
   "metadata": {},
   "outputs": [
    {
     "ename": "ValueError",
     "evalue": "Found input variables with inconsistent numbers of samples: [2469, 8068]",
     "output_type": "error",
     "traceback": [
      "\u001b[1;31m---------------------------------------------------------------------------\u001b[0m",
      "\u001b[1;31mValueError\u001b[0m                                Traceback (most recent call last)",
      "\u001b[1;32m<ipython-input-19-6bb561645646>\u001b[0m in \u001b[0;36m<module>\u001b[1;34m\u001b[0m\n\u001b[1;32m----> 1\u001b[1;33m \u001b[0mX_train\u001b[0m\u001b[1;33m,\u001b[0m \u001b[0mX_test\u001b[0m\u001b[1;33m,\u001b[0m \u001b[0my_train\u001b[0m\u001b[1;33m,\u001b[0m \u001b[0my_test\u001b[0m \u001b[1;33m=\u001b[0m \u001b[0mtrain_test_split\u001b[0m\u001b[1;33m(\u001b[0m\u001b[0msegment0\u001b[0m\u001b[1;33m,\u001b[0m \u001b[0mtrainData\u001b[0m\u001b[1;33m,\u001b[0m \u001b[0mtest_size\u001b[0m \u001b[1;33m=\u001b[0m \u001b[1;36m0.5\u001b[0m\u001b[1;33m,\u001b[0m \u001b[0mrandom_state\u001b[0m \u001b[1;33m=\u001b[0m \u001b[1;36m42\u001b[0m\u001b[1;33m)\u001b[0m\u001b[1;33m\u001b[0m\u001b[1;33m\u001b[0m\u001b[0m\n\u001b[0m\u001b[0;32m      2\u001b[0m \u001b[1;33m\u001b[0m\u001b[0m\n\u001b[0;32m      3\u001b[0m \u001b[0mclf\u001b[0m\u001b[1;33m=\u001b[0m\u001b[0mGradientBoostingClassifier\u001b[0m\u001b[1;33m(\u001b[0m\u001b[1;33m)\u001b[0m\u001b[1;33m\u001b[0m\u001b[1;33m\u001b[0m\u001b[0m\n\u001b[0;32m      4\u001b[0m \u001b[0mclf\u001b[0m\u001b[1;33m.\u001b[0m\u001b[0mfit\u001b[0m\u001b[1;33m(\u001b[0m\u001b[0mX_train\u001b[0m\u001b[1;33m,\u001b[0m\u001b[0my_train\u001b[0m\u001b[1;33m)\u001b[0m\u001b[1;33m\u001b[0m\u001b[1;33m\u001b[0m\u001b[0m\n\u001b[0;32m      5\u001b[0m \u001b[0mpred\u001b[0m\u001b[1;33m=\u001b[0m\u001b[0mclf\u001b[0m\u001b[1;33m.\u001b[0m\u001b[0mpredict\u001b[0m\u001b[1;33m(\u001b[0m\u001b[0mX_test\u001b[0m\u001b[1;33m)\u001b[0m\u001b[1;33m\u001b[0m\u001b[1;33m\u001b[0m\u001b[0m\n",
      "\u001b[1;32m~\\Anaconda3\\lib\\site-packages\\sklearn\\model_selection\\_split.py\u001b[0m in \u001b[0;36mtrain_test_split\u001b[1;34m(test_size, train_size, random_state, shuffle, stratify, *arrays)\u001b[0m\n\u001b[0;32m   2170\u001b[0m         \u001b[1;32mraise\u001b[0m \u001b[0mValueError\u001b[0m\u001b[1;33m(\u001b[0m\u001b[1;34m\"At least one array required as input\"\u001b[0m\u001b[1;33m)\u001b[0m\u001b[1;33m\u001b[0m\u001b[1;33m\u001b[0m\u001b[0m\n\u001b[0;32m   2171\u001b[0m \u001b[1;33m\u001b[0m\u001b[0m\n\u001b[1;32m-> 2172\u001b[1;33m     \u001b[0marrays\u001b[0m \u001b[1;33m=\u001b[0m \u001b[0mindexable\u001b[0m\u001b[1;33m(\u001b[0m\u001b[1;33m*\u001b[0m\u001b[0marrays\u001b[0m\u001b[1;33m)\u001b[0m\u001b[1;33m\u001b[0m\u001b[1;33m\u001b[0m\u001b[0m\n\u001b[0m\u001b[0;32m   2173\u001b[0m \u001b[1;33m\u001b[0m\u001b[0m\n\u001b[0;32m   2174\u001b[0m     \u001b[0mn_samples\u001b[0m \u001b[1;33m=\u001b[0m \u001b[0m_num_samples\u001b[0m\u001b[1;33m(\u001b[0m\u001b[0marrays\u001b[0m\u001b[1;33m[\u001b[0m\u001b[1;36m0\u001b[0m\u001b[1;33m]\u001b[0m\u001b[1;33m)\u001b[0m\u001b[1;33m\u001b[0m\u001b[1;33m\u001b[0m\u001b[0m\n",
      "\u001b[1;32m~\\Anaconda3\\lib\\site-packages\\sklearn\\utils\\validation.py\u001b[0m in \u001b[0;36mindexable\u001b[1;34m(*iterables)\u001b[0m\n\u001b[0;32m    297\u001b[0m     \"\"\"\n\u001b[0;32m    298\u001b[0m     \u001b[0mresult\u001b[0m \u001b[1;33m=\u001b[0m \u001b[1;33m[\u001b[0m\u001b[0m_make_indexable\u001b[0m\u001b[1;33m(\u001b[0m\u001b[0mX\u001b[0m\u001b[1;33m)\u001b[0m \u001b[1;32mfor\u001b[0m \u001b[0mX\u001b[0m \u001b[1;32min\u001b[0m \u001b[0miterables\u001b[0m\u001b[1;33m]\u001b[0m\u001b[1;33m\u001b[0m\u001b[1;33m\u001b[0m\u001b[0m\n\u001b[1;32m--> 299\u001b[1;33m     \u001b[0mcheck_consistent_length\u001b[0m\u001b[1;33m(\u001b[0m\u001b[1;33m*\u001b[0m\u001b[0mresult\u001b[0m\u001b[1;33m)\u001b[0m\u001b[1;33m\u001b[0m\u001b[1;33m\u001b[0m\u001b[0m\n\u001b[0m\u001b[0;32m    300\u001b[0m     \u001b[1;32mreturn\u001b[0m \u001b[0mresult\u001b[0m\u001b[1;33m\u001b[0m\u001b[1;33m\u001b[0m\u001b[0m\n\u001b[0;32m    301\u001b[0m \u001b[1;33m\u001b[0m\u001b[0m\n",
      "\u001b[1;32m~\\Anaconda3\\lib\\site-packages\\sklearn\\utils\\validation.py\u001b[0m in \u001b[0;36mcheck_consistent_length\u001b[1;34m(*arrays)\u001b[0m\n\u001b[0;32m    260\u001b[0m     \u001b[0muniques\u001b[0m \u001b[1;33m=\u001b[0m \u001b[0mnp\u001b[0m\u001b[1;33m.\u001b[0m\u001b[0munique\u001b[0m\u001b[1;33m(\u001b[0m\u001b[0mlengths\u001b[0m\u001b[1;33m)\u001b[0m\u001b[1;33m\u001b[0m\u001b[1;33m\u001b[0m\u001b[0m\n\u001b[0;32m    261\u001b[0m     \u001b[1;32mif\u001b[0m \u001b[0mlen\u001b[0m\u001b[1;33m(\u001b[0m\u001b[0muniques\u001b[0m\u001b[1;33m)\u001b[0m \u001b[1;33m>\u001b[0m \u001b[1;36m1\u001b[0m\u001b[1;33m:\u001b[0m\u001b[1;33m\u001b[0m\u001b[1;33m\u001b[0m\u001b[0m\n\u001b[1;32m--> 262\u001b[1;33m         raise ValueError(\"Found input variables with inconsistent numbers of\"\n\u001b[0m\u001b[0;32m    263\u001b[0m                          \" samples: %r\" % [int(l) for l in lengths])\n\u001b[0;32m    264\u001b[0m \u001b[1;33m\u001b[0m\u001b[0m\n",
      "\u001b[1;31mValueError\u001b[0m: Found input variables with inconsistent numbers of samples: [2469, 8068]"
     ]
    }
   ],
   "source": [
    "X_train, X_test, y_train, y_test = train_test_split(segment0, trainData, test_size = 0.5, random_state = 42)\n",
    "\n",
    "clf=GradientBoostingClassifier()\n",
    "clf.fit(X_train,y_train)\n",
    "pred=clf.predict(X_test)\n",
    "cm=(confusion_matrix(y_test, pred))\n",
    "print(cm)\n",
    "print(classification_report(y_test, pred))"
   ]
  },
  {
   "cell_type": "code",
   "execution_count": null,
   "id": "9980e508",
   "metadata": {
    "scrolled": true
   },
   "outputs": [],
   "source": [
    "trainData.iloc[label==1].describe()"
   ]
  },
  {
   "cell_type": "code",
   "execution_count": null,
   "id": "50ad0cfa",
   "metadata": {
    "scrolled": true
   },
   "outputs": [],
   "source": [
    "trainData.iloc[label==2].describe()"
   ]
  },
  {
   "cell_type": "code",
   "execution_count": null,
   "id": "a18d6fde",
   "metadata": {},
   "outputs": [],
   "source": [
    "trainData.iloc[label==0].describe()"
   ]
  },
  {
   "cell_type": "code",
   "execution_count": null,
   "id": "48052c1f",
   "metadata": {},
   "outputs": [],
   "source": [
    "trainData.iloc[label==3].describe()"
   ]
  },
  {
   "cell_type": "code",
   "execution_count": null,
   "id": "a68e0b71",
   "metadata": {},
   "outputs": [],
   "source": []
  }
 ],
 "metadata": {
  "kernelspec": {
   "display_name": "Python 3",
   "language": "python",
   "name": "python3"
  },
  "language_info": {
   "codemirror_mode": {
    "name": "ipython",
    "version": 3
   },
   "file_extension": ".py",
   "mimetype": "text/x-python",
   "name": "python",
   "nbconvert_exporter": "python",
   "pygments_lexer": "ipython3",
   "version": "3.8.8"
  }
 },
 "nbformat": 4,
 "nbformat_minor": 5
}
