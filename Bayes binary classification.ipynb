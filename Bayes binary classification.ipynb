{
 "cells": [
  {
   "cell_type": "code",
   "execution_count": 1,
   "id": "849aaa6d",
   "metadata": {
    "scrolled": true
   },
   "outputs": [
    {
     "name": "stdout",
     "output_type": "stream",
     "text": [
      "Number of mislabeled points out of a total 135 points : 7\n",
      "              precision    recall  f1-score   support\n",
      "\n",
      "           0       1.00      1.00      1.00        45\n",
      "           1       0.88      0.98      0.92        44\n",
      "           2       0.98      0.87      0.92        46\n",
      "\n",
      "    accuracy                           0.95       135\n",
      "   macro avg       0.95      0.95      0.95       135\n",
      "weighted avg       0.95      0.95      0.95       135\n",
      "\n",
      "[[45  0  0]\n",
      " [ 0 43  1]\n",
      " [ 0  6 40]]\n",
      "Type H for Heatmap of Confusion Matrix, Type C for ROC Curveh\n"
     ]
    },
    {
     "data": {
      "image/png": "[encoded data removed]",
      "text/plain": [
       "<Figure size 720x720 with 2 Axes>"
      ]
     },
     "metadata": {
      "needs_background": "light"
     },
     "output_type": "display_data"
    }
   ],
   "source": [
    "from sklearn.datasets import load_iris\n",
    "from sklearn.model_selection import train_test_split\n",
    "from sklearn.naive_bayes import BernoulliNB,GaussianNB\n",
    "from sklearn.metrics import accuracy_score,confusion_matrix,classification_report,roc_curve,roc_auc_score\n",
    "import matplotlib.pyplot as plt\n",
    "import pandas as pd\n",
    "import seaborn as sn\n",
    "import numpy as np\n",
    "\n",
    "def rocAucScoreMulticlass(actualClass, predClass, average = \"macro\"):\n",
    "  uniqueClass = set(actualClass)\n",
    "  rocAucDict = {}\n",
    "  for perClass in uniqueClass:\n",
    "    otherClass = [x for x in uniqueClass if x != perClass]\n",
    "    newActualClass = [0 if x in otherClass else 1 for x in actualClass]\n",
    "    newPredClass = [0 if x in otherClass else 1 for x in predClass]\n",
    "    rocAuc = roc_auc_score(newActualClass, newPredClass, average = average)\n",
    "    rocAucDict[perClass] = roc_auc\n",
    "  return rocAucDict\n",
    "\n",
    "irisX,irisY=load_iris(return_X_y=True)\n",
    "xTrain,xTest,yTrain,yTest=train_test_split(irisX,irisY,test_size=.90,random_state=0)\n",
    "#model=BernoulliNB()\n",
    "model=GaussianNB()\n",
    "yPred=model.fit(xTrain,yTrain).predict(xTest)\n",
    "yPredProb = model.predict_proba(xTest)[:,2]\n",
    "print(\"Number of mislabeled points out of a total %d points : %d\"% (xTest.shape[0], (yTest!=yPred).sum()))\n",
    "print(classification_report(yTest, yPred))\n",
    "cm=(confusion_matrix(yTest, yPred))\n",
    "print(cm)\n",
    "n=input(\"Type H for Heatmap of Confusion Matrix, Type C for ROC Curve\")\n",
    "if(n==\"h\"):\n",
    "    cmDf=pd.DataFrame(cm,columns=np.unique(yTest),index=np.unique(yTest))\n",
    "    cmDf.index.name=\"Actual\"\n",
    "    cmDf.columns.name=\"Predicted\"\n",
    "    plt.figure(figsize=(10,10))\n",
    "    plt.title('Heatmap of Confusion Matrix')\n",
    "    sn.set(font_scale=1.0)\n",
    "    sn.heatmap(cmDf, cmap=\"Blues\", annot=True,annot_kws={\"size\": 16})\n",
    "if (n==\"c\"):\n",
    "    fpr, tpr, thresholds =roc_curve(yTest, yPredProb, pos_label=2)\n",
    "    plt.plot(fpr, tpr, label='ROC Curve')\n",
    "    plt.plot([0, 1], [0, 1], 'k--', label='Random Guess')\n",
    "    plt.xlabel('False Positive Rate')\n",
    "    plt.ylabel('True Positive Rate')\n",
    "    plt.title('ROC Curve')\n",
    "    plt.xlim([-0.02, 1])\n",
    "    plt.ylim([0, 1.02])\n",
    "    plt.legend(loc=\"lower right\")"
   ]
  },
  {
   "cell_type": "code",
   "execution_count": null,
   "id": "bdc34df2",
   "metadata": {},
   "outputs": [],
   "source": []
  },
  {
   "cell_type": "code",
   "execution_count": null,
   "id": "834aa7ae",
   "metadata": {},
   "outputs": [],
   "source": []
  }
 ],
 "metadata": {
  "kernelspec": {
   "display_name": "Python 3",
   "language": "python",
   "name": "python3"
  },
  "language_info": {
   "codemirror_mode": {
    "name": "ipython",
    "version": 3
   },
   "file_extension": ".py",
   "mimetype": "text/x-python",
   "name": "python",
   "nbconvert_exporter": "python",
   "pygments_lexer": "ipython3",
   "version": "3.8.8"
  }
 },
 "nbformat": 4,
 "nbformat_minor": 5
}
