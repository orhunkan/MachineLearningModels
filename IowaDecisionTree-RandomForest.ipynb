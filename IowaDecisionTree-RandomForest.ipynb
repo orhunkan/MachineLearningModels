{
 "cells": [
  {
   "cell_type": "code",
   "execution_count": 1,
   "id": "b98fbd06",
   "metadata": {
    "scrolled": false
   },
   "outputs": [
    {
     "name": "stdout",
     "output_type": "stream",
     "text": [
      "Validation MAE wout  certain max leaf node:  26187.477168949776\n",
      "Validation MAE when max leaf nodes=100 21719.55619663895\n"
     ]
    }
   ],
   "source": [
    "import pandas as pd\n",
    "import numpy as np\n",
    "from sklearn.linear_model import LassoCV\n",
    "from sklearn.ensemble import RandomForestRegressor\n",
    "from sklearn.tree import DecisionTreeRegressor\n",
    "from sklearn.metrics import mean_absolute_error,mean_squared_error\n",
    "from sklearn.model_selection import train_test_split,cross_val_score\n",
    "from sklearn.preprocessing import OrdinalEncoder,OneHotEncoder\n",
    "from sklearn.preprocessing import LabelEncoder\n",
    "import seaborn as sns\n",
    "import matplotlib.pyplot as plt\n",
    "testFilepath=r\"C:\\Users\\s-mkandemir\\Anaconda3\\linear_test.csv\"\n",
    "trainFilepath=r\"C:\\Users\\s-mkandemir\\Anaconda3\\linear_train.csv\"\n",
    "testData=pd.read_csv(testFilepath)\n",
    "trainData=pd.read_csv(trainFilepath)\n",
    "#a=trainData.corrwith(trainData.SalePrice, axis=0, drop=True, method='pearson')\n",
    "#b=a.nlargest(5,keep='all')\n",
    "#d=a.nsmallest(5,keep='all')\n",
    "#c=a.to_frame()\n",
    "#print(b)\n",
    "#print(d)\n",
    "#e=trainData.corr()\n",
    "#hm=sns.heatmap(e,annot=True)\n",
    "testData=testData.fillna(0)\n",
    "trainData=trainData.fillna(0)\n",
    "categoricalLabels=['MSZoning','Street','Alley','LotShape','LandContour','Utilities','PoolQC','Fence','MiscFeature','SaleType','SaleCondition']\n",
    "testData[categoricalLabels]=testData[categoricalLabels].astype('str')\n",
    "testData[categoricalLabels]=testData[categoricalLabels].apply(LabelEncoder().fit_transform)\n",
    "yData=trainData.SalePrice\n",
    "\"\"\"reg = LassoCV()\n",
    "reg.fit(trainX,trainY )\n",
    "print(\"Best alpha using built-in LassoCV: %f\" % reg.alpha_)\n",
    "print(\"Best score using built-in LassoCV: %f\" %reg.score(trainX,trainY))\n",
    "coef = pd.Series(reg.coef_, index = trainX.columns)\n",
    "print(\"Lasso picked \" , str(sum(coef != 0)))\n",
    "imp_coef = coef.sort_values()\n",
    "plt.rcParams['figure.figsize'] = (10.0, 10.0)\n",
    "imp_coef.plot(kind = \"barh\")\n",
    "plt.title(\"Feature importance using Lasso Model\")\"\"\"\n",
    "modelCriteria=['OverallQual', 'GrLivArea', 'GarageCars','KitchenAbvGr','EnclosedPorch','MSSubClass']\n",
    "xData=trainData[modelCriteria]\n",
    "trainX,validX,trainY,validY=train_test_split(xData,yData,random_state=1)\n",
    "dataModel=DecisionTreeRegressor(random_state=1)\n",
    "validPred=dataModel.fit(trainX,trainY).predict(validX)\n",
    "validMAE=mean_absolute_error(validPred,validY)\n",
    "print(\"Validation MAE wout  certain max leaf node: \",validMAE)\n",
    "dataModel=DecisionTreeRegressor(max_leaf_nodes=100,random_state=1)\n",
    "dataModel.fit(trainX,trainY)\n",
    "validPred2=dataModel.fit(trainX,trainY).predict(validX)\n",
    "validMAE2=mean_absolute_error(validPred2,validY)\n",
    "print(\"Validation MAE when max leaf nodes=100\", validMAE2)\n",
    "rf=RandomForestRegressor(random_state=1)\n",
    "rf.fit(xData,yData)\n",
    "testX=testData[modelCriteria]\n",
    "testPred=rf.predict(testX)\n",
    "out=pd.DataFrame({'Id':testData.Id,'SalePrice':testPred})\n",
    "out.head()\n",
    "out.to_csv('predictions.csv',index=False)\n"
   ]
  },
  {
   "cell_type": "code",
   "execution_count": null,
   "id": "c34858f0",
   "metadata": {},
   "outputs": [],
   "source": []
  }
 ],
 "metadata": {
  "kernelspec": {
   "display_name": "Python 3",
   "language": "python",
   "name": "python3"
  },
  "language_info": {
   "codemirror_mode": {
    "name": "ipython",
    "version": 3
   },
   "file_extension": ".py",
   "mimetype": "text/x-python",
   "name": "python",
   "nbconvert_exporter": "python",
   "pygments_lexer": "ipython3",
   "version": "3.8.8"
  }
 },
 "nbformat": 4,
 "nbformat_minor": 5
}
